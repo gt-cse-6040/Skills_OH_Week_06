{
 "cells": [
  {
   "cell_type": "markdown",
   "metadata": {},
   "source": [
    "_Main topics covered during today's session:_\n",
    "\n",
    "Previous NB:\n",
    "\n",
    "1. **Notes on Pandas, Part 0 (from Topic 7), introducing Series and DataFrame objects**\n",
    "\n",
    "This NB:\n",
    "\n",
    "2. **Notes on Pandas, Part 0 (from Topic 7), Series and DataFrame manipulations**\n",
    "\n",
    "We are simply splitting up this NB that is on Vocareum and adding some explanatory notes for this Skills OH session. The code content is the mostly the same. We note below where there are differences."
   ]
  },
  {
   "cell_type": "markdown",
   "metadata": {},
   "source": [
    "**The below two cells simply set up the NB with the same two df's as the previous NB (cafes and cafes2).**"
   ]
  },
  {
   "cell_type": "code",
   "execution_count": 8,
   "metadata": {},
   "outputs": [],
   "source": [
    "import pandas as pd  # Standard idiom for loading pandas\n",
    "from pandas import DataFrame, Series"
   ]
  },
  {
   "cell_type": "code",
   "execution_count": 9,
   "metadata": {},
   "outputs": [
    {
     "data": {
      "text/html": [
       "<div>\n",
       "<style scoped>\n",
       "    .dataframe tbody tr th:only-of-type {\n",
       "        vertical-align: middle;\n",
       "    }\n",
       "\n",
       "    .dataframe tbody tr th {\n",
       "        vertical-align: top;\n",
       "    }\n",
       "\n",
       "    .dataframe thead th {\n",
       "        text-align: right;\n",
       "    }\n",
       "</style>\n",
       "<table border=\"1\" class=\"dataframe\">\n",
       "  <thead>\n",
       "    <tr style=\"text-align: right;\">\n",
       "      <th></th>\n",
       "      <th>poc</th>\n",
       "      <th>zip</th>\n",
       "    </tr>\n",
       "  </thead>\n",
       "  <tbody>\n",
       "    <tr>\n",
       "      <th>east pole</th>\n",
       "      <td>jared</td>\n",
       "      <td>30324</td>\n",
       "    </tr>\n",
       "    <tr>\n",
       "      <th>chrome yellow</th>\n",
       "      <td>kelly</td>\n",
       "      <td>30312</td>\n",
       "    </tr>\n",
       "    <tr>\n",
       "      <th>brash</th>\n",
       "      <td>matt</td>\n",
       "      <td>30318</td>\n",
       "    </tr>\n",
       "    <tr>\n",
       "      <th>taproom</th>\n",
       "      <td>jonathan</td>\n",
       "      <td>30317</td>\n",
       "    </tr>\n",
       "    <tr>\n",
       "      <th>3heart</th>\n",
       "      <td>nhan</td>\n",
       "      <td>30306</td>\n",
       "    </tr>\n",
       "    <tr>\n",
       "      <th>spiller park pcm</th>\n",
       "      <td>dale</td>\n",
       "      <td>30308</td>\n",
       "    </tr>\n",
       "    <tr>\n",
       "      <th>refuge</th>\n",
       "      <td>kitti</td>\n",
       "      <td>30303</td>\n",
       "    </tr>\n",
       "    <tr>\n",
       "      <th>toptime</th>\n",
       "      <td>nolan</td>\n",
       "      <td>30318</td>\n",
       "    </tr>\n",
       "  </tbody>\n",
       "</table>\n",
       "</div>"
      ],
      "text/plain": [
       "                       poc    zip\n",
       "east pole            jared  30324\n",
       "chrome yellow        kelly  30312\n",
       "brash                 matt  30318\n",
       "taproom           jonathan  30317\n",
       "3heart                nhan  30306\n",
       "spiller park pcm      dale  30308\n",
       "refuge               kitti  30303\n",
       "toptime              nolan  30318"
      ]
     },
     "execution_count": 9,
     "metadata": {},
     "output_type": "execute_result"
    }
   ],
   "source": [
    "cafes = DataFrame({'name': ['east pole', 'chrome yellow', 'brash', 'taproom', '3heart', 'spiller park pcm', 'refuge', 'toptime'],\n",
    "                   'zip': [30324, 30312, 30318, 30317, 30306, 30308, 30303, 30318],\n",
    "                   'poc': ['jared', 'kelly', 'matt', 'jonathan', 'nhan', 'dale', 'kitti', 'nolan']})\n",
    "\n",
    "cafes2 = cafes[['poc', 'zip']]\n",
    "cafes2.index = cafes['name']\n",
    "cafes2.index.name = None\n",
    "cafes2"
   ]
  },
  {
   "cell_type": "markdown",
   "metadata": {},
   "source": [
    "**Now let's continue, working on manipulating dataframes (and Series).**\n",
    "\n",
    "Adding columns is easy. Suppose every cafe has a 4-star rating on Yelp! and a two-dollar-sign cost:"
   ]
  },
  {
   "cell_type": "code",
   "execution_count": 10,
   "metadata": {},
   "outputs": [
    {
     "data": {
      "text/html": [
       "<div>\n",
       "<style scoped>\n",
       "    .dataframe tbody tr th:only-of-type {\n",
       "        vertical-align: middle;\n",
       "    }\n",
       "\n",
       "    .dataframe tbody tr th {\n",
       "        vertical-align: top;\n",
       "    }\n",
       "\n",
       "    .dataframe thead th {\n",
       "        text-align: right;\n",
       "    }\n",
       "</style>\n",
       "<table border=\"1\" class=\"dataframe\">\n",
       "  <thead>\n",
       "    <tr style=\"text-align: right;\">\n",
       "      <th></th>\n",
       "      <th>poc</th>\n",
       "      <th>zip</th>\n",
       "      <th>rating</th>\n",
       "      <th>price</th>\n",
       "    </tr>\n",
       "  </thead>\n",
       "  <tbody>\n",
       "    <tr>\n",
       "      <th>east pole</th>\n",
       "      <td>jared</td>\n",
       "      <td>30324</td>\n",
       "      <td>4.0</td>\n",
       "      <td>$$</td>\n",
       "    </tr>\n",
       "    <tr>\n",
       "      <th>chrome yellow</th>\n",
       "      <td>kelly</td>\n",
       "      <td>30312</td>\n",
       "      <td>4.0</td>\n",
       "      <td>$$</td>\n",
       "    </tr>\n",
       "    <tr>\n",
       "      <th>brash</th>\n",
       "      <td>matt</td>\n",
       "      <td>30318</td>\n",
       "      <td>4.0</td>\n",
       "      <td>$$</td>\n",
       "    </tr>\n",
       "    <tr>\n",
       "      <th>taproom</th>\n",
       "      <td>jonathan</td>\n",
       "      <td>30317</td>\n",
       "      <td>4.0</td>\n",
       "      <td>$$</td>\n",
       "    </tr>\n",
       "    <tr>\n",
       "      <th>3heart</th>\n",
       "      <td>nhan</td>\n",
       "      <td>30306</td>\n",
       "      <td>4.0</td>\n",
       "      <td>$$</td>\n",
       "    </tr>\n",
       "    <tr>\n",
       "      <th>spiller park pcm</th>\n",
       "      <td>dale</td>\n",
       "      <td>30308</td>\n",
       "      <td>4.0</td>\n",
       "      <td>$$</td>\n",
       "    </tr>\n",
       "    <tr>\n",
       "      <th>refuge</th>\n",
       "      <td>kitti</td>\n",
       "      <td>30303</td>\n",
       "      <td>4.0</td>\n",
       "      <td>$$</td>\n",
       "    </tr>\n",
       "    <tr>\n",
       "      <th>toptime</th>\n",
       "      <td>nolan</td>\n",
       "      <td>30318</td>\n",
       "      <td>4.0</td>\n",
       "      <td>$$</td>\n",
       "    </tr>\n",
       "  </tbody>\n",
       "</table>\n",
       "</div>"
      ],
      "text/plain": [
       "                       poc    zip  rating price\n",
       "east pole            jared  30324     4.0    $$\n",
       "chrome yellow        kelly  30312     4.0    $$\n",
       "brash                 matt  30318     4.0    $$\n",
       "taproom           jonathan  30317     4.0    $$\n",
       "3heart                nhan  30306     4.0    $$\n",
       "spiller park pcm      dale  30308     4.0    $$\n",
       "refuge               kitti  30303     4.0    $$\n",
       "toptime              nolan  30318     4.0    $$"
      ]
     },
     "execution_count": 10,
     "metadata": {},
     "output_type": "execute_result"
    }
   ],
   "source": [
    "cafes2['rating'] = 4.0\n",
    "cafes2['price'] = '$$'\n",
    "cafes2"
   ]
  },
  {
   "cell_type": "code",
   "execution_count": 11,
   "metadata": {},
   "outputs": [
    {
     "data": {
      "text/html": [
       "<div>\n",
       "<style scoped>\n",
       "    .dataframe tbody tr th:only-of-type {\n",
       "        vertical-align: middle;\n",
       "    }\n",
       "\n",
       "    .dataframe tbody tr th {\n",
       "        vertical-align: top;\n",
       "    }\n",
       "\n",
       "    .dataframe thead th {\n",
       "        text-align: right;\n",
       "    }\n",
       "</style>\n",
       "<table border=\"1\" class=\"dataframe\">\n",
       "  <thead>\n",
       "    <tr style=\"text-align: right;\">\n",
       "      <th></th>\n",
       "      <th>poc</th>\n",
       "      <th>zip</th>\n",
       "      <th>rating</th>\n",
       "      <th>price</th>\n",
       "    </tr>\n",
       "  </thead>\n",
       "  <tbody>\n",
       "    <tr>\n",
       "      <th>chrome yellow</th>\n",
       "      <td>kelly</td>\n",
       "      <td>30312</td>\n",
       "      <td>4.0</td>\n",
       "      <td>$$</td>\n",
       "    </tr>\n",
       "    <tr>\n",
       "      <th>taproom</th>\n",
       "      <td>jonathan</td>\n",
       "      <td>30317</td>\n",
       "      <td>4.0</td>\n",
       "      <td>$$</td>\n",
       "    </tr>\n",
       "  </tbody>\n",
       "</table>\n",
       "</div>"
      ],
      "text/plain": [
       "                    poc    zip  rating price\n",
       "chrome yellow     kelly  30312     4.0    $$\n",
       "taproom        jonathan  30317     4.0    $$"
      ]
     },
     "execution_count": 11,
     "metadata": {},
     "output_type": "execute_result"
    }
   ],
   "source": [
    "cafes2.iloc[[1, 3]]"
   ]
  },
  {
   "cell_type": "markdown",
   "metadata": {},
   "source": [
    "And vector arithmetic should work on columns as expected."
   ]
  },
  {
   "cell_type": "code",
   "execution_count": 12,
   "metadata": {},
   "outputs": [
    {
     "data": {
      "text/plain": [
       "east pole           2\n",
       "chrome yellow       2\n",
       "brash               2\n",
       "taproom             2\n",
       "3heart              2\n",
       "spiller park pcm    2\n",
       "refuge              2\n",
       "toptime             2\n",
       "Name: price, dtype: int64"
      ]
     },
     "execution_count": 12,
     "metadata": {},
     "output_type": "execute_result"
    }
   ],
   "source": [
    "prices_as_ints = cafes2['price'].apply(lambda s: len(s))\n",
    "prices_as_ints"
   ]
  },
  {
   "cell_type": "markdown",
   "metadata": {},
   "source": [
    "What did we do here?\n",
    "\n",
    "1. Created a new Series, called prices_as_ints.\n",
    "2. We used a lambda function (remember those?) and .apply() to populate the Series.\n",
    "3. In the lambda function, the length of s is always 2 ($$ in each row)"
   ]
  },
  {
   "cell_type": "markdown",
   "metadata": {},
   "source": [
    "The ``apply()`` method lets you apply an arbitrary function to the group results.\n",
    "The method takes a ``DataFrame``, and returns either a Pandas object (e.g., ``DataFrame``, ``Series``) or a scalar; the combine operation will be tailored to the type of output returned.\n",
    "\n",
    "Each value of a series (dataframe column) is passed through the function inside .apply()\n",
    "\n",
    "There are 3 types of functions you can pass in apply : \n",
    "1. Built-in functions\n",
    "2. User-defined functions\n",
    "3. Lambda functions\n",
    "\n",
    "https://pandas.pydata.org/pandas-docs/stable/reference/api/pandas.DataFrame.apply.html\n",
    "\n",
    "Let's look at some examples."
   ]
  },
  {
   "cell_type": "code",
   "execution_count": 21,
   "metadata": {},
   "outputs": [
    {
     "data": {
      "text/html": [
       "<div>\n",
       "<style scoped>\n",
       "    .dataframe tbody tr th:only-of-type {\n",
       "        vertical-align: middle;\n",
       "    }\n",
       "\n",
       "    .dataframe tbody tr th {\n",
       "        vertical-align: top;\n",
       "    }\n",
       "\n",
       "    .dataframe thead th {\n",
       "        text-align: right;\n",
       "    }\n",
       "</style>\n",
       "<table border=\"1\" class=\"dataframe\">\n",
       "  <thead>\n",
       "    <tr style=\"text-align: right;\">\n",
       "      <th></th>\n",
       "      <th>Name</th>\n",
       "      <th>Sex</th>\n",
       "      <th>Age</th>\n",
       "      <th>weight(kgs)</th>\n",
       "    </tr>\n",
       "  </thead>\n",
       "  <tbody>\n",
       "    <tr>\n",
       "      <th>0</th>\n",
       "      <td>Edward</td>\n",
       "      <td>M</td>\n",
       "      <td>45</td>\n",
       "      <td>68.4</td>\n",
       "    </tr>\n",
       "    <tr>\n",
       "      <th>1</th>\n",
       "      <td>Natalie</td>\n",
       "      <td>F</td>\n",
       "      <td>35</td>\n",
       "      <td>58.2</td>\n",
       "    </tr>\n",
       "    <tr>\n",
       "      <th>2</th>\n",
       "      <td>Chris M</td>\n",
       "      <td>M</td>\n",
       "      <td>29</td>\n",
       "      <td>64.3</td>\n",
       "    </tr>\n",
       "    <tr>\n",
       "      <th>3</th>\n",
       "      <td>Priyatham</td>\n",
       "      <td>M</td>\n",
       "      <td>26</td>\n",
       "      <td>53.1</td>\n",
       "    </tr>\n",
       "  </tbody>\n",
       "</table>\n",
       "</div>"
      ],
      "text/plain": [
       "        Name Sex  Age  weight(kgs)\n",
       "0     Edward   M   45         68.4\n",
       "1    Natalie   F   35         58.2\n",
       "2    Chris M   M   29         64.3\n",
       "3  Priyatham   M   26         53.1"
      ]
     },
     "execution_count": 21,
     "metadata": {},
     "output_type": "execute_result"
    }
   ],
   "source": [
    "# create a df to work with\n",
    "df = pd.DataFrame(\n",
    "                    {\n",
    "                        'Name': ['Edward','Natalie','Chris M','Priyatham'],\n",
    "                        'Sex':  ['M','F','M','M'],\n",
    "                        'Age':  [45,35,29,26],\n",
    "                        'weight(kgs)': [68.4,58.2,64.3,53.1]\n",
    "                    }\n",
    "                )\n",
    "df"
   ]
  },
  {
   "cell_type": "code",
   "execution_count": 22,
   "metadata": {},
   "outputs": [
    {
     "data": {
      "text/plain": [
       "0    6\n",
       "1    7\n",
       "2    7\n",
       "3    9\n",
       "Name: Name, dtype: int64"
      ]
     },
     "execution_count": 22,
     "metadata": {},
     "output_type": "execute_result"
    }
   ],
   "source": [
    "# using a built-in function\n",
    "df['Name'].apply(len)"
   ]
  },
  {
   "cell_type": "code",
   "execution_count": 23,
   "metadata": {},
   "outputs": [
    {
     "data": {
      "text/plain": [
       "0    46\n",
       "1    36\n",
       "2    30\n",
       "3    27\n",
       "Name: Age, dtype: int64"
      ]
     },
     "execution_count": 23,
     "metadata": {},
     "output_type": "execute_result"
    }
   ],
   "source": [
    "# using a user-defined function\n",
    "def add_age(age):\n",
    "    return age+1\n",
    "\n",
    "df['Age'].apply(add_age)"
   ]
  },
  {
   "cell_type": "code",
   "execution_count": 24,
   "metadata": {},
   "outputs": [
    {
     "name": "stdout",
     "output_type": "stream",
     "text": [
      "        Name Sex  Age  weight(kgs)\n",
      "0     Edward   M   45         68.4\n",
      "1    Natalie   F   35         58.2\n",
      "2    Chris M   M   29         64.3\n",
      "3  Priyatham   M   26         53.1\n"
     ]
    },
    {
     "data": {
      "text/html": [
       "<div>\n",
       "<style scoped>\n",
       "    .dataframe tbody tr th:only-of-type {\n",
       "        vertical-align: middle;\n",
       "    }\n",
       "\n",
       "    .dataframe tbody tr th {\n",
       "        vertical-align: top;\n",
       "    }\n",
       "\n",
       "    .dataframe thead th {\n",
       "        text-align: right;\n",
       "    }\n",
       "</style>\n",
       "<table border=\"1\" class=\"dataframe\">\n",
       "  <thead>\n",
       "    <tr style=\"text-align: right;\">\n",
       "      <th></th>\n",
       "      <th>Name</th>\n",
       "      <th>Sex</th>\n",
       "      <th>Age</th>\n",
       "      <th>weight(kgs)</th>\n",
       "    </tr>\n",
       "  </thead>\n",
       "  <tbody>\n",
       "    <tr>\n",
       "      <th>0</th>\n",
       "      <td>Edward</td>\n",
       "      <td>M</td>\n",
       "      <td>46</td>\n",
       "      <td>68.4</td>\n",
       "    </tr>\n",
       "    <tr>\n",
       "      <th>1</th>\n",
       "      <td>Natalie</td>\n",
       "      <td>F</td>\n",
       "      <td>36</td>\n",
       "      <td>58.2</td>\n",
       "    </tr>\n",
       "    <tr>\n",
       "      <th>2</th>\n",
       "      <td>Chris M</td>\n",
       "      <td>M</td>\n",
       "      <td>30</td>\n",
       "      <td>64.3</td>\n",
       "    </tr>\n",
       "    <tr>\n",
       "      <th>3</th>\n",
       "      <td>Priyatham</td>\n",
       "      <td>M</td>\n",
       "      <td>27</td>\n",
       "      <td>53.1</td>\n",
       "    </tr>\n",
       "  </tbody>\n",
       "</table>\n",
       "</div>"
      ],
      "text/plain": [
       "        Name Sex  Age  weight(kgs)\n",
       "0     Edward   M   46         68.4\n",
       "1    Natalie   F   36         58.2\n",
       "2    Chris M   M   30         64.3\n",
       "3  Priyatham   M   27         53.1"
      ]
     },
     "execution_count": 24,
     "metadata": {},
     "output_type": "execute_result"
    }
   ],
   "source": [
    "# now use .apply() to change the value in the df\n",
    "print(df)\n",
    "df['Age'] = df['Age'].apply(add_age)\n",
    "df"
   ]
  },
  {
   "cell_type": "code",
   "execution_count": 25,
   "metadata": {},
   "outputs": [
    {
     "data": {
      "text/plain": [
       "0    47\n",
       "1    37\n",
       "2    31\n",
       "3    28\n",
       "Name: Age, dtype: int64"
      ]
     },
     "execution_count": 25,
     "metadata": {},
     "output_type": "execute_result"
    }
   ],
   "source": [
    "# now use a lambda function to do the same as the add_age function\n",
    "df['Age'].apply(lambda x: x+1)"
   ]
  },
  {
   "cell_type": "code",
   "execution_count": 26,
   "metadata": {},
   "outputs": [
    {
     "data": {
      "text/plain": [
       "0    True\n",
       "1    True\n",
       "2    True\n",
       "3    True\n",
       "Name: Age, dtype: bool"
      ]
     },
     "execution_count": 26,
     "metadata": {},
     "output_type": "execute_result"
    }
   ],
   "source": [
    "# compare the two approaches\n",
    "df['Age'].apply(lambda x: x+1) == df['Age'].apply(add_age)"
   ]
  },
  {
   "cell_type": "markdown",
   "metadata": {},
   "source": [
    "**Note the axis parameter in the .apply() syntax. The default is axis=0, meaning that the function will be applied on a column basis. However, you can also use axis=1, which means that the function will be applied to the rows of the dataframe. See the slide for a visual of how this is done.**"
   ]
  },
  {
   "cell_type": "markdown",
   "metadata": {},
   "source": [
    "Now let's go back to our cafes data. Recall that we created the prices_as_ints series."
   ]
  },
  {
   "cell_type": "code",
   "execution_count": 27,
   "metadata": {},
   "outputs": [
    {
     "data": {
      "text/plain": [
       "east pole           2\n",
       "chrome yellow       2\n",
       "brash               2\n",
       "taproom             2\n",
       "3heart              2\n",
       "spiller park pcm    2\n",
       "refuge              2\n",
       "toptime             2\n",
       "Name: price, dtype: int64"
      ]
     },
     "execution_count": 27,
     "metadata": {},
     "output_type": "execute_result"
    }
   ],
   "source": [
    "# prices_as_ints = cafes2['price'].apply(lambda s: len(s))\n",
    "prices_as_ints"
   ]
  },
  {
   "cell_type": "markdown",
   "metadata": {},
   "source": [
    "Let's create a new column."
   ]
  },
  {
   "cell_type": "code",
   "execution_count": 28,
   "metadata": {},
   "outputs": [
    {
     "data": {
      "text/html": [
       "<div>\n",
       "<style scoped>\n",
       "    .dataframe tbody tr th:only-of-type {\n",
       "        vertical-align: middle;\n",
       "    }\n",
       "\n",
       "    .dataframe tbody tr th {\n",
       "        vertical-align: top;\n",
       "    }\n",
       "\n",
       "    .dataframe thead th {\n",
       "        text-align: right;\n",
       "    }\n",
       "</style>\n",
       "<table border=\"1\" class=\"dataframe\">\n",
       "  <thead>\n",
       "    <tr style=\"text-align: right;\">\n",
       "      <th></th>\n",
       "      <th>poc</th>\n",
       "      <th>zip</th>\n",
       "      <th>rating</th>\n",
       "      <th>price</th>\n",
       "      <th>value</th>\n",
       "    </tr>\n",
       "  </thead>\n",
       "  <tbody>\n",
       "    <tr>\n",
       "      <th>east pole</th>\n",
       "      <td>jared</td>\n",
       "      <td>30324</td>\n",
       "      <td>4.0</td>\n",
       "      <td>$$</td>\n",
       "      <td>2.0</td>\n",
       "    </tr>\n",
       "    <tr>\n",
       "      <th>chrome yellow</th>\n",
       "      <td>kelly</td>\n",
       "      <td>30312</td>\n",
       "      <td>4.0</td>\n",
       "      <td>$$</td>\n",
       "      <td>2.0</td>\n",
       "    </tr>\n",
       "    <tr>\n",
       "      <th>brash</th>\n",
       "      <td>matt</td>\n",
       "      <td>30318</td>\n",
       "      <td>4.0</td>\n",
       "      <td>$$</td>\n",
       "      <td>2.0</td>\n",
       "    </tr>\n",
       "    <tr>\n",
       "      <th>taproom</th>\n",
       "      <td>jonathan</td>\n",
       "      <td>30317</td>\n",
       "      <td>4.0</td>\n",
       "      <td>$$</td>\n",
       "      <td>2.0</td>\n",
       "    </tr>\n",
       "    <tr>\n",
       "      <th>3heart</th>\n",
       "      <td>nhan</td>\n",
       "      <td>30306</td>\n",
       "      <td>4.0</td>\n",
       "      <td>$$</td>\n",
       "      <td>2.0</td>\n",
       "    </tr>\n",
       "    <tr>\n",
       "      <th>spiller park pcm</th>\n",
       "      <td>dale</td>\n",
       "      <td>30308</td>\n",
       "      <td>4.0</td>\n",
       "      <td>$$</td>\n",
       "      <td>2.0</td>\n",
       "    </tr>\n",
       "    <tr>\n",
       "      <th>refuge</th>\n",
       "      <td>kitti</td>\n",
       "      <td>30303</td>\n",
       "      <td>4.0</td>\n",
       "      <td>$$</td>\n",
       "      <td>2.0</td>\n",
       "    </tr>\n",
       "    <tr>\n",
       "      <th>toptime</th>\n",
       "      <td>nolan</td>\n",
       "      <td>30318</td>\n",
       "      <td>4.0</td>\n",
       "      <td>$$</td>\n",
       "      <td>2.0</td>\n",
       "    </tr>\n",
       "  </tbody>\n",
       "</table>\n",
       "</div>"
      ],
      "text/plain": [
       "                       poc    zip  rating price  value\n",
       "east pole            jared  30324     4.0    $$    2.0\n",
       "chrome yellow        kelly  30312     4.0    $$    2.0\n",
       "brash                 matt  30318     4.0    $$    2.0\n",
       "taproom           jonathan  30317     4.0    $$    2.0\n",
       "3heart                nhan  30306     4.0    $$    2.0\n",
       "spiller park pcm      dale  30308     4.0    $$    2.0\n",
       "refuge               kitti  30303     4.0    $$    2.0\n",
       "toptime              nolan  30318     4.0    $$    2.0"
      ]
     },
     "execution_count": 28,
     "metadata": {},
     "output_type": "execute_result"
    }
   ],
   "source": [
    "cafes2['value'] = cafes2['rating'] / prices_as_ints\n",
    "cafes2"
   ]
  },
  {
   "cell_type": "markdown",
   "metadata": {},
   "source": [
    "Because the columns are `Series` objects, there is an implicit matching that is happening on the indexes. In the preceding example, it works because all the `Series` objects involved have identical indexes."
   ]
  },
  {
   "cell_type": "markdown",
   "metadata": {},
   "source": [
    "However, the following will not work as intended because referencing rows yields copies.\n",
    "\n",
    "For instance, suppose there is a price hike of one more `'$'` for being in the 30306 and 30308 zip codes. (If you are in Atlanta, you may know that these are the zip codes that place you close to, or in, [Ponce City Market](http://poncecitymarket.com/) and the [Eastside Beltline Trail](https://beltline.org/explore-atlanta-beltline-trails/eastside-trail/)!) Let's increase the price there, on a copy of the dataframe, `cafes3`."
   ]
  },
  {
   "cell_type": "code",
   "execution_count": 58,
   "metadata": {},
   "outputs": [
    {
     "data": {
      "text/html": [
       "<div>\n",
       "<style scoped>\n",
       "    .dataframe tbody tr th:only-of-type {\n",
       "        vertical-align: middle;\n",
       "    }\n",
       "\n",
       "    .dataframe tbody tr th {\n",
       "        vertical-align: top;\n",
       "    }\n",
       "\n",
       "    .dataframe thead th {\n",
       "        text-align: right;\n",
       "    }\n",
       "</style>\n",
       "<table border=\"1\" class=\"dataframe\">\n",
       "  <thead>\n",
       "    <tr style=\"text-align: right;\">\n",
       "      <th></th>\n",
       "      <th>poc</th>\n",
       "      <th>zip</th>\n",
       "      <th>rating</th>\n",
       "      <th>price</th>\n",
       "      <th>value</th>\n",
       "    </tr>\n",
       "  </thead>\n",
       "  <tbody>\n",
       "    <tr>\n",
       "      <th>east pole</th>\n",
       "      <td>jared</td>\n",
       "      <td>30324</td>\n",
       "      <td>4.0</td>\n",
       "      <td>$$</td>\n",
       "      <td>2.0</td>\n",
       "    </tr>\n",
       "    <tr>\n",
       "      <th>chrome yellow</th>\n",
       "      <td>kelly</td>\n",
       "      <td>30312</td>\n",
       "      <td>4.0</td>\n",
       "      <td>$$</td>\n",
       "      <td>2.0</td>\n",
       "    </tr>\n",
       "    <tr>\n",
       "      <th>brash</th>\n",
       "      <td>matt</td>\n",
       "      <td>30318</td>\n",
       "      <td>4.0</td>\n",
       "      <td>$$</td>\n",
       "      <td>2.0</td>\n",
       "    </tr>\n",
       "    <tr>\n",
       "      <th>taproom</th>\n",
       "      <td>jonathan</td>\n",
       "      <td>30317</td>\n",
       "      <td>4.0</td>\n",
       "      <td>$$</td>\n",
       "      <td>2.0</td>\n",
       "    </tr>\n",
       "    <tr>\n",
       "      <th>3heart</th>\n",
       "      <td>nhan</td>\n",
       "      <td>30306</td>\n",
       "      <td>4.0</td>\n",
       "      <td>$$</td>\n",
       "      <td>2.0</td>\n",
       "    </tr>\n",
       "    <tr>\n",
       "      <th>spiller park pcm</th>\n",
       "      <td>dale</td>\n",
       "      <td>30308</td>\n",
       "      <td>4.0</td>\n",
       "      <td>$$</td>\n",
       "      <td>2.0</td>\n",
       "    </tr>\n",
       "    <tr>\n",
       "      <th>refuge</th>\n",
       "      <td>kitti</td>\n",
       "      <td>30303</td>\n",
       "      <td>4.0</td>\n",
       "      <td>$$</td>\n",
       "      <td>2.0</td>\n",
       "    </tr>\n",
       "    <tr>\n",
       "      <th>toptime</th>\n",
       "      <td>nolan</td>\n",
       "      <td>30318</td>\n",
       "      <td>4.0</td>\n",
       "      <td>$$</td>\n",
       "      <td>2.0</td>\n",
       "    </tr>\n",
       "  </tbody>\n",
       "</table>\n",
       "</div>"
      ],
      "text/plain": [
       "                       poc    zip  rating price  value\n",
       "east pole            jared  30324     4.0    $$    2.0\n",
       "chrome yellow        kelly  30312     4.0    $$    2.0\n",
       "brash                 matt  30318     4.0    $$    2.0\n",
       "taproom           jonathan  30317     4.0    $$    2.0\n",
       "3heart                nhan  30306     4.0    $$    2.0\n",
       "spiller park pcm      dale  30308     4.0    $$    2.0\n",
       "refuge               kitti  30303     4.0    $$    2.0\n",
       "toptime              nolan  30318     4.0    $$    2.0"
      ]
     },
     "execution_count": 58,
     "metadata": {},
     "output_type": "execute_result"
    }
   ],
   "source": [
    "cafes3 = cafes2.copy()\n",
    "cafes3"
   ]
  },
  {
   "cell_type": "code",
   "execution_count": 59,
   "metadata": {},
   "outputs": [
    {
     "data": {
      "text/plain": [
       "east pole           False\n",
       "chrome yellow       False\n",
       "brash               False\n",
       "taproom             False\n",
       "3heart               True\n",
       "spiller park pcm     True\n",
       "refuge              False\n",
       "toptime             False\n",
       "Name: zip, dtype: bool"
      ]
     },
     "execution_count": 59,
     "metadata": {},
     "output_type": "execute_result"
    }
   ],
   "source": [
    "# create a boolean mask\n",
    "is_fancy = cafes3['zip'].isin({30306, 30308})\n",
    "# Alternative:\n",
    "#is_fancy = cafes3['zip'].apply(lambda z: z in {30306, 30308})\n",
    "is_fancy # this is the mask"
   ]
  },
  {
   "cell_type": "code",
   "execution_count": 60,
   "metadata": {},
   "outputs": [
    {
     "data": {
      "text/html": [
       "<div>\n",
       "<style scoped>\n",
       "    .dataframe tbody tr th:only-of-type {\n",
       "        vertical-align: middle;\n",
       "    }\n",
       "\n",
       "    .dataframe tbody tr th {\n",
       "        vertical-align: top;\n",
       "    }\n",
       "\n",
       "    .dataframe thead th {\n",
       "        text-align: right;\n",
       "    }\n",
       "</style>\n",
       "<table border=\"1\" class=\"dataframe\">\n",
       "  <thead>\n",
       "    <tr style=\"text-align: right;\">\n",
       "      <th></th>\n",
       "      <th>poc</th>\n",
       "      <th>zip</th>\n",
       "      <th>rating</th>\n",
       "      <th>price</th>\n",
       "      <th>value</th>\n",
       "    </tr>\n",
       "  </thead>\n",
       "  <tbody>\n",
       "    <tr>\n",
       "      <th>3heart</th>\n",
       "      <td>nhan</td>\n",
       "      <td>30306</td>\n",
       "      <td>4.0</td>\n",
       "      <td>$$</td>\n",
       "      <td>2.0</td>\n",
       "    </tr>\n",
       "    <tr>\n",
       "      <th>spiller park pcm</th>\n",
       "      <td>dale</td>\n",
       "      <td>30308</td>\n",
       "      <td>4.0</td>\n",
       "      <td>$$</td>\n",
       "      <td>2.0</td>\n",
       "    </tr>\n",
       "  </tbody>\n",
       "</table>\n",
       "</div>"
      ],
      "text/plain": [
       "                   poc    zip  rating price  value\n",
       "3heart            nhan  30306     4.0    $$    2.0\n",
       "spiller park pcm  dale  30308     4.0    $$    2.0"
      ]
     },
     "execution_count": 60,
     "metadata": {},
     "output_type": "execute_result"
    }
   ],
   "source": [
    "# apply the boolean mask to only return the True rows\n",
    "cafes3[is_fancy]"
   ]
  },
  {
   "cell_type": "code",
   "execution_count": 61,
   "metadata": {},
   "outputs": [
    {
     "name": "stdout",
     "output_type": "stream",
     "text": [
      "$$$\n"
     ]
    }
   ],
   "source": [
    "# Recall: Legal Python for string concatenation\n",
    "s = '$$'\n",
    "s += '$'\n",
    "print(s)"
   ]
  },
  {
   "cell_type": "code",
   "execution_count": 62,
   "metadata": {},
   "outputs": [
    {
     "name": "stderr",
     "output_type": "stream",
     "text": [
      "C:\\Users\\lrhsh\\AppData\\Local\\Temp\\ipykernel_32992\\3738753830.py:1: SettingWithCopyWarning: \n",
      "A value is trying to be set on a copy of a slice from a DataFrame.\n",
      "Try using .loc[row_indexer,col_indexer] = value instead\n",
      "\n",
      "See the caveats in the documentation: https://pandas.pydata.org/pandas-docs/stable/user_guide/indexing.html#returning-a-view-versus-a-copy\n",
      "  cafes3[is_fancy]['price'] += '$'\n"
     ]
    }
   ],
   "source": [
    "cafes3[is_fancy]['price'] += '$'"
   ]
  },
  {
   "cell_type": "markdown",
   "metadata": {},
   "source": [
    "What does that error message mean? Let's see if anything changed."
   ]
  },
  {
   "cell_type": "code",
   "execution_count": 63,
   "metadata": {},
   "outputs": [
    {
     "data": {
      "text/html": [
       "<div>\n",
       "<style scoped>\n",
       "    .dataframe tbody tr th:only-of-type {\n",
       "        vertical-align: middle;\n",
       "    }\n",
       "\n",
       "    .dataframe tbody tr th {\n",
       "        vertical-align: top;\n",
       "    }\n",
       "\n",
       "    .dataframe thead th {\n",
       "        text-align: right;\n",
       "    }\n",
       "</style>\n",
       "<table border=\"1\" class=\"dataframe\">\n",
       "  <thead>\n",
       "    <tr style=\"text-align: right;\">\n",
       "      <th></th>\n",
       "      <th>poc</th>\n",
       "      <th>zip</th>\n",
       "      <th>rating</th>\n",
       "      <th>price</th>\n",
       "      <th>value</th>\n",
       "    </tr>\n",
       "  </thead>\n",
       "  <tbody>\n",
       "    <tr>\n",
       "      <th>east pole</th>\n",
       "      <td>jared</td>\n",
       "      <td>30324</td>\n",
       "      <td>4.0</td>\n",
       "      <td>$$</td>\n",
       "      <td>2.0</td>\n",
       "    </tr>\n",
       "    <tr>\n",
       "      <th>chrome yellow</th>\n",
       "      <td>kelly</td>\n",
       "      <td>30312</td>\n",
       "      <td>4.0</td>\n",
       "      <td>$$</td>\n",
       "      <td>2.0</td>\n",
       "    </tr>\n",
       "    <tr>\n",
       "      <th>brash</th>\n",
       "      <td>matt</td>\n",
       "      <td>30318</td>\n",
       "      <td>4.0</td>\n",
       "      <td>$$</td>\n",
       "      <td>2.0</td>\n",
       "    </tr>\n",
       "    <tr>\n",
       "      <th>taproom</th>\n",
       "      <td>jonathan</td>\n",
       "      <td>30317</td>\n",
       "      <td>4.0</td>\n",
       "      <td>$$</td>\n",
       "      <td>2.0</td>\n",
       "    </tr>\n",
       "    <tr>\n",
       "      <th>3heart</th>\n",
       "      <td>nhan</td>\n",
       "      <td>30306</td>\n",
       "      <td>4.0</td>\n",
       "      <td>$$</td>\n",
       "      <td>2.0</td>\n",
       "    </tr>\n",
       "    <tr>\n",
       "      <th>spiller park pcm</th>\n",
       "      <td>dale</td>\n",
       "      <td>30308</td>\n",
       "      <td>4.0</td>\n",
       "      <td>$$</td>\n",
       "      <td>2.0</td>\n",
       "    </tr>\n",
       "    <tr>\n",
       "      <th>refuge</th>\n",
       "      <td>kitti</td>\n",
       "      <td>30303</td>\n",
       "      <td>4.0</td>\n",
       "      <td>$$</td>\n",
       "      <td>2.0</td>\n",
       "    </tr>\n",
       "    <tr>\n",
       "      <th>toptime</th>\n",
       "      <td>nolan</td>\n",
       "      <td>30318</td>\n",
       "      <td>4.0</td>\n",
       "      <td>$$</td>\n",
       "      <td>2.0</td>\n",
       "    </tr>\n",
       "  </tbody>\n",
       "</table>\n",
       "</div>"
      ],
      "text/plain": [
       "                       poc    zip  rating price  value\n",
       "east pole            jared  30324     4.0    $$    2.0\n",
       "chrome yellow        kelly  30312     4.0    $$    2.0\n",
       "brash                 matt  30318     4.0    $$    2.0\n",
       "taproom           jonathan  30317     4.0    $$    2.0\n",
       "3heart                nhan  30306     4.0    $$    2.0\n",
       "spiller park pcm      dale  30308     4.0    $$    2.0\n",
       "refuge               kitti  30303     4.0    $$    2.0\n",
       "toptime              nolan  30318     4.0    $$    2.0"
      ]
     },
     "execution_count": 63,
     "metadata": {},
     "output_type": "execute_result"
    }
   ],
   "source": [
    "cafes3"
   ]
  },
  {
   "cell_type": "markdown",
   "metadata": {},
   "source": [
    "Nope! When you slice horizontally, you get copies of the original data, not references to subsets of the original data(see the error message text). Therefore, we'll need different strategy.\n",
    "\n",
    "Observe that the error message suggests a way!"
   ]
  },
  {
   "cell_type": "code",
   "execution_count": 64,
   "metadata": {
    "scrolled": true
   },
   "outputs": [
    {
     "data": {
      "text/html": [
       "<div>\n",
       "<style scoped>\n",
       "    .dataframe tbody tr th:only-of-type {\n",
       "        vertical-align: middle;\n",
       "    }\n",
       "\n",
       "    .dataframe tbody tr th {\n",
       "        vertical-align: top;\n",
       "    }\n",
       "\n",
       "    .dataframe thead th {\n",
       "        text-align: right;\n",
       "    }\n",
       "</style>\n",
       "<table border=\"1\" class=\"dataframe\">\n",
       "  <thead>\n",
       "    <tr style=\"text-align: right;\">\n",
       "      <th></th>\n",
       "      <th>poc</th>\n",
       "      <th>zip</th>\n",
       "      <th>rating</th>\n",
       "      <th>price</th>\n",
       "      <th>value</th>\n",
       "    </tr>\n",
       "  </thead>\n",
       "  <tbody>\n",
       "    <tr>\n",
       "      <th>east pole</th>\n",
       "      <td>jared</td>\n",
       "      <td>30324</td>\n",
       "      <td>4.0</td>\n",
       "      <td>$$</td>\n",
       "      <td>2.0</td>\n",
       "    </tr>\n",
       "    <tr>\n",
       "      <th>chrome yellow</th>\n",
       "      <td>kelly</td>\n",
       "      <td>30312</td>\n",
       "      <td>4.0</td>\n",
       "      <td>$$</td>\n",
       "      <td>2.0</td>\n",
       "    </tr>\n",
       "    <tr>\n",
       "      <th>brash</th>\n",
       "      <td>matt</td>\n",
       "      <td>30318</td>\n",
       "      <td>4.0</td>\n",
       "      <td>$$</td>\n",
       "      <td>2.0</td>\n",
       "    </tr>\n",
       "    <tr>\n",
       "      <th>taproom</th>\n",
       "      <td>jonathan</td>\n",
       "      <td>30317</td>\n",
       "      <td>4.0</td>\n",
       "      <td>$$</td>\n",
       "      <td>2.0</td>\n",
       "    </tr>\n",
       "    <tr>\n",
       "      <th>3heart</th>\n",
       "      <td>nhan</td>\n",
       "      <td>30306</td>\n",
       "      <td>4.0</td>\n",
       "      <td>$$$</td>\n",
       "      <td>2.0</td>\n",
       "    </tr>\n",
       "    <tr>\n",
       "      <th>spiller park pcm</th>\n",
       "      <td>dale</td>\n",
       "      <td>30308</td>\n",
       "      <td>4.0</td>\n",
       "      <td>$$$</td>\n",
       "      <td>2.0</td>\n",
       "    </tr>\n",
       "    <tr>\n",
       "      <th>refuge</th>\n",
       "      <td>kitti</td>\n",
       "      <td>30303</td>\n",
       "      <td>4.0</td>\n",
       "      <td>$$</td>\n",
       "      <td>2.0</td>\n",
       "    </tr>\n",
       "    <tr>\n",
       "      <th>toptime</th>\n",
       "      <td>nolan</td>\n",
       "      <td>30318</td>\n",
       "      <td>4.0</td>\n",
       "      <td>$$</td>\n",
       "      <td>2.0</td>\n",
       "    </tr>\n",
       "  </tbody>\n",
       "</table>\n",
       "</div>"
      ],
      "text/plain": [
       "                       poc    zip  rating price  value\n",
       "east pole            jared  30324     4.0    $$    2.0\n",
       "chrome yellow        kelly  30312     4.0    $$    2.0\n",
       "brash                 matt  30318     4.0    $$    2.0\n",
       "taproom           jonathan  30317     4.0    $$    2.0\n",
       "3heart                nhan  30306     4.0   $$$    2.0\n",
       "spiller park pcm      dale  30308     4.0   $$$    2.0\n",
       "refuge               kitti  30303     4.0    $$    2.0\n",
       "toptime              nolan  30318     4.0    $$    2.0"
      ]
     },
     "execution_count": 64,
     "metadata": {},
     "output_type": "execute_result"
    }
   ],
   "source": [
    "cafes3.loc[is_fancy, 'price'] += '$'\n",
    "cafes3"
   ]
  },
  {
   "cell_type": "markdown",
   "metadata": {},
   "source": [
    "**In this NB on Vocareum, at this point it discusses a different manner for achieving the same result. We are eliminating that from our discussion here, and we have remove those cells. We encourage you to take a look at the code, for your own understanding.**\n",
    "\n",
    "We will simply make the cafes4 dataframe as a copy of the cafes3, so that our code below aligns with the original nb."
   ]
  },
  {
   "cell_type": "code",
   "execution_count": 66,
   "metadata": {},
   "outputs": [],
   "source": [
    "cafes4 = cafes3.copy()"
   ]
  },
  {
   "cell_type": "markdown",
   "metadata": {},
   "source": [
    "**More on `apply()` for `DataFrame` objects.** As with a `Series`, there is a `DataFrame.apply()` procedure. However, it's meaning is a bit more nuanced because a `DataFrame` is generally 2-D rather than 1-D."
   ]
  },
  {
   "cell_type": "markdown",
   "metadata": {},
   "source": [
    "https://www.geeksforgeeks.org/python-repr-function/"
   ]
  },
  {
   "cell_type": "code",
   "execution_count": 67,
   "metadata": {},
   "outputs": [
    {
     "name": "stdout",
     "output_type": "stream",
     "text": [
      "                       poc    zip  rating price  value\n",
      "east pole            jared  30324     4.0    $$    2.0\n",
      "chrome yellow        kelly  30312     4.0    $$    2.0\n",
      "brash                 matt  30318     4.0    $$    2.0\n",
      "taproom           jonathan  30317     4.0    $$    2.0\n",
      "3heart                nhan  30306     4.0   $$$    2.0\n",
      "spiller park pcm      dale  30308     4.0   $$$    2.0\n",
      "refuge               kitti  30303     4.0    $$    2.0\n",
      "toptime              nolan  30318     4.0    $$    2.0\n"
     ]
    },
    {
     "data": {
      "text/plain": [
       "poc       <class 'pandas.core.series.Series'>\n",
       "zip       <class 'pandas.core.series.Series'>\n",
       "rating    <class 'pandas.core.series.Series'>\n",
       "price     <class 'pandas.core.series.Series'>\n",
       "value     <class 'pandas.core.series.Series'>\n",
       "dtype: object"
      ]
     },
     "execution_count": 67,
     "metadata": {},
     "output_type": "execute_result"
    }
   ],
   "source": [
    "# the default for .apply() is axis=0, recall the slide visual\n",
    "print(cafes4)\n",
    "# axis=0 gives the columns\n",
    "cafes4.apply(lambda x: repr(type(x))) # What does this do? What does the output tell you?"
   ]
  },
  {
   "cell_type": "markdown",
   "metadata": {},
   "source": [
    "A useful parameter is `axis`:"
   ]
  },
  {
   "cell_type": "code",
   "execution_count": 68,
   "metadata": {},
   "outputs": [
    {
     "data": {
      "text/plain": [
       "east pole           <class 'pandas.core.series.Series'>\n",
       "chrome yellow       <class 'pandas.core.series.Series'>\n",
       "brash               <class 'pandas.core.series.Series'>\n",
       "taproom             <class 'pandas.core.series.Series'>\n",
       "3heart              <class 'pandas.core.series.Series'>\n",
       "spiller park pcm    <class 'pandas.core.series.Series'>\n",
       "refuge              <class 'pandas.core.series.Series'>\n",
       "toptime             <class 'pandas.core.series.Series'>\n",
       "dtype: object"
      ]
     },
     "execution_count": 68,
     "metadata": {},
     "output_type": "execute_result"
    }
   ],
   "source": [
    "# axis=1 gives the rows\n",
    "cafes4.apply(lambda x: repr(type(x)), axis=1) # What does this do? What does the output tell you?"
   ]
  },
  {
   "cell_type": "code",
   "execution_count": 69,
   "metadata": {},
   "outputs": [],
   "source": [
    "# errors out\n",
    "# cafes4.apply(lambda x: (type(x)))"
   ]
  },
  {
   "cell_type": "markdown",
   "metadata": {},
   "source": [
    "And just to quickly verify what you get when `axis=1`:"
   ]
  },
  {
   "cell_type": "code",
   "execution_count": 70,
   "metadata": {},
   "outputs": [
    {
     "name": "stdout",
     "output_type": "stream",
     "text": [
      "==> east pole\n",
      "poc       jared\n",
      "zip       30324\n",
      "rating      4.0\n",
      "price        $$\n",
      "value       2.0\n",
      "Name: east pole, dtype: object\n"
     ]
    }
   ],
   "source": [
    "# this is a complex lambda function\n",
    "cafes4.apply(lambda x: print('==> ' + x.name + '\\n' + repr(x)) if x.name == 'east pole' else None, axis=1);"
   ]
  },
  {
   "cell_type": "markdown",
   "metadata": {},
   "source": [
    "So what does the above lambda function do?\n",
    "\n",
    "1. It is a lambda function, so it is looking at every row, with the parameter axis=1\n",
    "2. It checks if the row's name is 'east pole'\n",
    "3. If the name is 'east pole', it does the print\n",
    "4. If the name is not 'east pole', it returns None (does not print anything)"
   ]
  },
  {
   "cell_type": "markdown",
   "metadata": {},
   "source": [
    "**Exercise.** Use `DataFrame.apply()` to update the `'value'` column in `cafes4`, which is out of date given the update of the prices."
   ]
  },
  {
   "cell_type": "code",
   "execution_count": 71,
   "metadata": {},
   "outputs": [
    {
     "data": {
      "text/html": [
       "<div>\n",
       "<style scoped>\n",
       "    .dataframe tbody tr th:only-of-type {\n",
       "        vertical-align: middle;\n",
       "    }\n",
       "\n",
       "    .dataframe tbody tr th {\n",
       "        vertical-align: top;\n",
       "    }\n",
       "\n",
       "    .dataframe thead th {\n",
       "        text-align: right;\n",
       "    }\n",
       "</style>\n",
       "<table border=\"1\" class=\"dataframe\">\n",
       "  <thead>\n",
       "    <tr style=\"text-align: right;\">\n",
       "      <th></th>\n",
       "      <th>poc</th>\n",
       "      <th>zip</th>\n",
       "      <th>rating</th>\n",
       "      <th>price</th>\n",
       "      <th>value</th>\n",
       "    </tr>\n",
       "  </thead>\n",
       "  <tbody>\n",
       "    <tr>\n",
       "      <th>east pole</th>\n",
       "      <td>jared</td>\n",
       "      <td>30324</td>\n",
       "      <td>4.0</td>\n",
       "      <td>$$</td>\n",
       "      <td>2.0</td>\n",
       "    </tr>\n",
       "    <tr>\n",
       "      <th>chrome yellow</th>\n",
       "      <td>kelly</td>\n",
       "      <td>30312</td>\n",
       "      <td>4.0</td>\n",
       "      <td>$$</td>\n",
       "      <td>2.0</td>\n",
       "    </tr>\n",
       "    <tr>\n",
       "      <th>brash</th>\n",
       "      <td>matt</td>\n",
       "      <td>30318</td>\n",
       "      <td>4.0</td>\n",
       "      <td>$$</td>\n",
       "      <td>2.0</td>\n",
       "    </tr>\n",
       "    <tr>\n",
       "      <th>taproom</th>\n",
       "      <td>jonathan</td>\n",
       "      <td>30317</td>\n",
       "      <td>4.0</td>\n",
       "      <td>$$</td>\n",
       "      <td>2.0</td>\n",
       "    </tr>\n",
       "    <tr>\n",
       "      <th>3heart</th>\n",
       "      <td>nhan</td>\n",
       "      <td>30306</td>\n",
       "      <td>4.0</td>\n",
       "      <td>$$$</td>\n",
       "      <td>2.0</td>\n",
       "    </tr>\n",
       "    <tr>\n",
       "      <th>spiller park pcm</th>\n",
       "      <td>dale</td>\n",
       "      <td>30308</td>\n",
       "      <td>4.0</td>\n",
       "      <td>$$$</td>\n",
       "      <td>2.0</td>\n",
       "    </tr>\n",
       "    <tr>\n",
       "      <th>refuge</th>\n",
       "      <td>kitti</td>\n",
       "      <td>30303</td>\n",
       "      <td>4.0</td>\n",
       "      <td>$$</td>\n",
       "      <td>2.0</td>\n",
       "    </tr>\n",
       "    <tr>\n",
       "      <th>toptime</th>\n",
       "      <td>nolan</td>\n",
       "      <td>30318</td>\n",
       "      <td>4.0</td>\n",
       "      <td>$$</td>\n",
       "      <td>2.0</td>\n",
       "    </tr>\n",
       "  </tbody>\n",
       "</table>\n",
       "</div>"
      ],
      "text/plain": [
       "                       poc    zip  rating price  value\n",
       "east pole            jared  30324     4.0    $$    2.0\n",
       "chrome yellow        kelly  30312     4.0    $$    2.0\n",
       "brash                 matt  30318     4.0    $$    2.0\n",
       "taproom           jonathan  30317     4.0    $$    2.0\n",
       "3heart                nhan  30306     4.0   $$$    2.0\n",
       "spiller park pcm      dale  30308     4.0   $$$    2.0\n",
       "refuge               kitti  30303     4.0    $$    2.0\n",
       "toptime              nolan  30318     4.0    $$    2.0"
      ]
     },
     "execution_count": 71,
     "metadata": {},
     "output_type": "execute_result"
    }
   ],
   "source": [
    "cafes4 # Verify visually that `'value'` is out of date"
   ]
  },
  {
   "cell_type": "code",
   "execution_count": 72,
   "metadata": {},
   "outputs": [
    {
     "data": {
      "text/html": [
       "<div>\n",
       "<style scoped>\n",
       "    .dataframe tbody tr th:only-of-type {\n",
       "        vertical-align: middle;\n",
       "    }\n",
       "\n",
       "    .dataframe tbody tr th {\n",
       "        vertical-align: top;\n",
       "    }\n",
       "\n",
       "    .dataframe thead th {\n",
       "        text-align: right;\n",
       "    }\n",
       "</style>\n",
       "<table border=\"1\" class=\"dataframe\">\n",
       "  <thead>\n",
       "    <tr style=\"text-align: right;\">\n",
       "      <th></th>\n",
       "      <th>poc</th>\n",
       "      <th>zip</th>\n",
       "      <th>rating</th>\n",
       "      <th>price</th>\n",
       "      <th>value</th>\n",
       "    </tr>\n",
       "  </thead>\n",
       "  <tbody>\n",
       "    <tr>\n",
       "      <th>east pole</th>\n",
       "      <td>jared</td>\n",
       "      <td>30324</td>\n",
       "      <td>4.0</td>\n",
       "      <td>$$</td>\n",
       "      <td>2.000000</td>\n",
       "    </tr>\n",
       "    <tr>\n",
       "      <th>chrome yellow</th>\n",
       "      <td>kelly</td>\n",
       "      <td>30312</td>\n",
       "      <td>4.0</td>\n",
       "      <td>$$</td>\n",
       "      <td>2.000000</td>\n",
       "    </tr>\n",
       "    <tr>\n",
       "      <th>brash</th>\n",
       "      <td>matt</td>\n",
       "      <td>30318</td>\n",
       "      <td>4.0</td>\n",
       "      <td>$$</td>\n",
       "      <td>2.000000</td>\n",
       "    </tr>\n",
       "    <tr>\n",
       "      <th>taproom</th>\n",
       "      <td>jonathan</td>\n",
       "      <td>30317</td>\n",
       "      <td>4.0</td>\n",
       "      <td>$$</td>\n",
       "      <td>2.000000</td>\n",
       "    </tr>\n",
       "    <tr>\n",
       "      <th>3heart</th>\n",
       "      <td>nhan</td>\n",
       "      <td>30306</td>\n",
       "      <td>4.0</td>\n",
       "      <td>$$$</td>\n",
       "      <td>1.333333</td>\n",
       "    </tr>\n",
       "    <tr>\n",
       "      <th>spiller park pcm</th>\n",
       "      <td>dale</td>\n",
       "      <td>30308</td>\n",
       "      <td>4.0</td>\n",
       "      <td>$$$</td>\n",
       "      <td>1.333333</td>\n",
       "    </tr>\n",
       "    <tr>\n",
       "      <th>refuge</th>\n",
       "      <td>kitti</td>\n",
       "      <td>30303</td>\n",
       "      <td>4.0</td>\n",
       "      <td>$$</td>\n",
       "      <td>2.000000</td>\n",
       "    </tr>\n",
       "    <tr>\n",
       "      <th>toptime</th>\n",
       "      <td>nolan</td>\n",
       "      <td>30318</td>\n",
       "      <td>4.0</td>\n",
       "      <td>$$</td>\n",
       "      <td>2.000000</td>\n",
       "    </tr>\n",
       "  </tbody>\n",
       "</table>\n",
       "</div>"
      ],
      "text/plain": [
       "                       poc    zip  rating price     value\n",
       "east pole            jared  30324     4.0    $$  2.000000\n",
       "chrome yellow        kelly  30312     4.0    $$  2.000000\n",
       "brash                 matt  30318     4.0    $$  2.000000\n",
       "taproom           jonathan  30317     4.0    $$  2.000000\n",
       "3heart                nhan  30306     4.0   $$$  1.333333\n",
       "spiller park pcm      dale  30308     4.0   $$$  1.333333\n",
       "refuge               kitti  30303     4.0    $$  2.000000\n",
       "toptime              nolan  30318     4.0    $$  2.000000"
      ]
     },
     "execution_count": 72,
     "metadata": {},
     "output_type": "execute_result"
    }
   ],
   "source": [
    "# .apply() with a user-defined function\n",
    "def calc_value(row):\n",
    "    return row['rating'] / len(row['price'])\n",
    "\n",
    "cafes4['value'] = cafes4.apply(calc_value, axis=1)\n",
    "cafes4"
   ]
  },
  {
   "cell_type": "markdown",
   "metadata": {},
   "source": [
    "#### This concludes our discussion for today. We will conclude our Pandas introduction in the next Skills OH session."
   ]
  },
  {
   "cell_type": "code",
   "execution_count": null,
   "metadata": {},
   "outputs": [],
   "source": []
  }
 ],
 "metadata": {
  "kernel_info": {
   "name": "python3"
  },
  "kernelspec": {
   "display_name": "Python 3 (ipykernel)",
   "language": "python",
   "name": "python3"
  },
  "language_info": {
   "codemirror_mode": {
    "name": "ipython",
    "version": 3
   },
   "file_extension": ".py",
   "mimetype": "text/x-python",
   "name": "python",
   "nbconvert_exporter": "python",
   "pygments_lexer": "ipython3",
   "version": "3.9.13"
  },
  "nteract": {
   "version": "0.11.7"
  }
 },
 "nbformat": 4,
 "nbformat_minor": 2
}
